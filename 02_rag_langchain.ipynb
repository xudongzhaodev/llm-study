{
 "cells": [
  {
   "cell_type": "markdown",
   "id": "c2f83c17-6de6-40c4-85e8-7c2d2dadd705",
   "metadata": {},
   "source": [
    " # On a assez d’ingrédients, c’est le moment de créer une appli RAG simple"
   ]
  },
  {
   "cell_type": "code",
   "execution_count": 5,
   "id": "fa974836-26cf-4fdc-91ff-30bfb47484bc",
   "metadata": {},
   "outputs": [
    {
     "name": "stdout",
     "output_type": "stream",
     "text": [
      "* Running on local URL:  http://127.0.0.1:7864\n",
      "* Running on public URL: https://f307200ecd327d11fb.gradio.live\n",
      "\n",
      "This share link expires in 1 week. For free permanent hosting and GPU upgrades, run `gradio deploy` from the terminal in the working directory to deploy to Hugging Face Spaces (https://huggingface.co/spaces)\n"
     ]
    },
    {
     "data": {
      "text/html": [
       "<div><iframe src=\"https://f307200ecd327d11fb.gradio.live\" width=\"100%\" height=\"500\" allow=\"autoplay; camera; microphone; clipboard-read; clipboard-write;\" frameborder=\"0\" allowfullscreen></iframe></div>"
      ],
      "text/plain": [
       "<IPython.core.display.HTML object>"
      ]
     },
     "metadata": {},
     "output_type": "display_data"
    },
    {
     "data": {
      "text/plain": []
     },
     "execution_count": 5,
     "metadata": {},
     "output_type": "execute_result"
    }
   ],
   "source": [
    "import os\n",
    "import gradio as gr\n",
    "from langchain.document_loaders import TextLoader\n",
    "from langchain.text_splitter import RecursiveCharacterTextSplitter\n",
    "from langchain.chains import RetrievalQA\n",
    "from langchain_chroma import Chroma\n",
    "from langchain_ollama import OllamaLLM\n",
    "from langchain_ollama import OllamaEmbeddings\n",
    "# from langchain_huggingface import HuggingFaceEmbeddings\n",
    "\n",
    "# Étape 1 : Lire le document Markdown\n",
    "def load_docs():\n",
    "    docs = []\n",
    "    for root, _, files in os.walk(\"docs\"):\n",
    "        for filename in files:\n",
    "            if filename.endswith(\".md\"):\n",
    "                full_path = os.path.join(root, filename)\n",
    "                loader = TextLoader(full_path, encoding='utf-8')\n",
    "                docs.extend(loader.load())\n",
    "    return docs\n",
    "\n",
    "# Étape 2 : Utiliser ChromaDB pour créer ou charger une base de données vectorielle\n",
    "\n",
    "# Modèle d'embedding : MiniLM exécuté en local\n",
    "# embeddings = HuggingFaceEmbeddings(model_name=\"sentence-transformers/all-MiniLM-L6-v2\")\n",
    "\n",
    "embeddings = OllamaEmbeddings(model=\"nomic-embed-text\")\n",
    "\n",
    "def get_vectorstore():\n",
    "    persist_dir = \"chroma_store\"\n",
    "    collection_meta = {\"hnsw:space\": \"cosine\"}\n",
    "    if os.path.exists(persist_dir):\n",
    "        # Charger une base de données existante\n",
    "        vectorstore = Chroma(persist_directory=persist_dir, embedding_function=embeddings)\n",
    "    else:\n",
    "        # Créer une nouvelle base de données.\n",
    "        documents = load_docs()\n",
    "        splitter = RecursiveCharacterTextSplitter(chunk_size=500, chunk_overlap=50)\n",
    "        texts = splitter.split_documents(documents)\n",
    "        #vectorstore = Chroma.from_documents(texts, embedding=embeddings, persist_directory=persist_dir)\n",
    "        vectorstore = Chroma.from_documents(\n",
    "                    texts,\n",
    "                    embedding=embeddings,\n",
    "                    persist_directory=persist_dir,\n",
    "                    collection_metadata=collection_meta\n",
    "        )\n",
    "        vectorstore.persist()  # Enregistrer dans la base\n",
    "    return vectorstore\n",
    "\n",
    "# Modèle LLM local : utilisation de Ollama pour appeler Mistral\n",
    "llm = OllamaLLM(model=\"mistral\", temperature=0.7)\n",
    "\n",
    "# Créer un système de récupération RAG\n",
    "vectorstore = get_vectorstore()\n",
    "retriever = vectorstore.as_retriever(search_kwargs={\"k\": 3})\n",
    "qa_chain = RetrievalQA.from_chain_type(llm=llm, retriever=retriever, return_source_documents=True)\n",
    "\n",
    "def chat_with_rag(user_input):\n",
    "    \n",
    "# result est un dictionnaire au format suivant :\n",
    "# {\n",
    "#  \"result\": \"Texte final de la réponse générée par le modèle\",\n",
    "#  \"source_documents\": [document1, document2, document3]\n",
    "# }\n",
    "\n",
    "    result = qa_chain.invoke(user_input)\n",
    "    answer = result[\"result\"]\n",
    "    sources = result.get(\"source_documents\", [])\n",
    "    file_list = set()\n",
    "    for doc in sources:\n",
    "        if hasattr(doc.metadata, \"get\"):\n",
    "            source = doc.metadata.get(\"source\")\n",
    "            if source:\n",
    "                file_list.add(source) \n",
    "    if file_list:\n",
    "        answer += \"\\n\\n📄 Le fichier:\\n\"\n",
    "        for file in sorted(file_list):\n",
    "            url = path_to_gitlab_url(file)\n",
    "            norm_path = file.replace(\"\\\\\", \"/\")\n",
    "            answer += f\"- `{norm_path}`\\n  🔗({url})\\n\"\n",
    "    return answer\n",
    "    \n",
    "# Interface de chat Gradio\n",
    "view = gr.Interface(\n",
    "    fn=chat_with_rag,\n",
    "    inputs=gr.Textbox(label=\"Your message:\", lines=6, placeholder=\"Veuillez entrer votre question...\"),\n",
    "    outputs=gr.Textbox(label=\"Response:\", lines=8),\n",
    "    title=\"RAG Assistant (Ollama + ChromaDB)\",\n",
    "    flagging_mode=\"never\"\n",
    ")\n",
    "\n",
    "def path_to_gitlab_url(path):\n",
    "    # Remplacer les séparateurs de chemin Windows par le format URL\n",
    "    url_path = path.replace(\"\\\\\", \"/\")\n",
    "    # Supprimer le préfixe\n",
    "    if url_path.startswith(\"docs/wiki-developpement-squash.wiki/\"):\n",
    "        url_path = url_path[len(\"docs/wiki-developpement-squash.wiki/\"):]\n",
    "    # Supprimer le suffixe .md (il n’y a pas de .md dans l’URL du wiki GitLab)\n",
    "    if url_path.endswith(\".md\"):\n",
    "        url_path = url_path[:-3]\n",
    "    return f\"https://gitlab.com/henixdevelopment/squash/wiki-developpement-squash/-/wikis/{url_path}\"\n",
    "\n",
    "view.launch(share=True)\n"
   ]
  },
  {
   "cell_type": "code",
   "execution_count": null,
   "id": "96702edc-e199-45fe-8f8a-0c2d29ca0320",
   "metadata": {},
   "outputs": [],
   "source": [
    "\n",
    "\n",
    "\n"
   ]
  },
  {
   "cell_type": "code",
   "execution_count": null,
   "id": "a69c6377-545d-4dae-a868-55a6da1bd1f2",
   "metadata": {},
   "outputs": [],
   "source": []
  }
 ],
 "metadata": {
  "kernelspec": {
   "display_name": "Python 3 (ipykernel)",
   "language": "python",
   "name": "python3"
  },
  "language_info": {
   "codemirror_mode": {
    "name": "ipython",
    "version": 3
   },
   "file_extension": ".py",
   "mimetype": "text/x-python",
   "name": "python",
   "nbconvert_exporter": "python",
   "pygments_lexer": "ipython3",
   "version": "3.11.12"
  }
 },
 "nbformat": 4,
 "nbformat_minor": 5
}
